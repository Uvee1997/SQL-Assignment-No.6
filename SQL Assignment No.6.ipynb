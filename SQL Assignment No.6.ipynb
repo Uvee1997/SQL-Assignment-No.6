{
 "cells": [
  {
   "cell_type": "markdown",
   "id": "65f3b0a6",
   "metadata": {},
   "source": [
    "1) Write an SQL query to print details of the Workers who have joined in Feb’2014.\n",
    "\n",
    ":- select * from worker where year(JOINING_DATE) = 2014 and month(JOINING_DATE) = 2"
   ]
  },
  {
   "cell_type": "markdown",
   "id": "9c895ebe",
   "metadata": {},
   "source": [
    "2) Write an SQL query to fetch duplicate records having matching data in some fields of a table.\n",
    "\n",
    ":- select worker_title, affected_from , count(*)\n",
    "   from title\n",
    "   group by worker_title, affected_from\n",
    "   having count(*) > 1; "
   ]
  },
  {
   "cell_type": "markdown",
   "id": "1ddd7b09",
   "metadata": {},
   "source": [
    "3) How to remove duplicate rows from Employees table.\n",
    "\n",
    ":- SELECT FIRST_NAME,LAST_NAME,SALARY,COUNT(*) FROM DETAILS\n",
    "   GROUP BY FIRST_NAME,LAST_NAME,SALARY\n",
    "   DELETE FROM DETAILS WHERE SN NOT IN (\n",
    "   SELECT MAX(SN) FROM DETAILS GROUP BY FIRST_NAME,LAST_NAME,SALARY)    \n",
    "    "
   ]
  }
 ],
 "metadata": {
  "kernelspec": {
   "display_name": "Python 3 (ipykernel)",
   "language": "python",
   "name": "python3"
  },
  "language_info": {
   "codemirror_mode": {
    "name": "ipython",
    "version": 3
   },
   "file_extension": ".py",
   "mimetype": "text/x-python",
   "name": "python",
   "nbconvert_exporter": "python",
   "pygments_lexer": "ipython3",
   "version": "3.9.7"
  }
 },
 "nbformat": 4,
 "nbformat_minor": 5
}
